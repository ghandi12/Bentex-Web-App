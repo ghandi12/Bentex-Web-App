{
 "cells": [
  {
   "cell_type": "code",
   "execution_count": 1,
   "metadata": {
    "collapsed": true
   },
   "outputs": [],
   "source": [
    "from django.db import connections\n",
    "import pandas as pd"
   ]
  },
  {
   "cell_type": "code",
   "execution_count": 2,
   "metadata": {
    "collapsed": true
   },
   "outputs": [],
   "source": [
    "def dictfetchall(cursor):\n",
    "    \"Return all rows from a cursor as a dict\"\n",
    "    columns = [col[0] for col in cursor.description]\n",
    "    return [\n",
    "        dict(zip(columns, row))\n",
    "        for row in cursor.fetchall()\n",
    "    ]"
   ]
  },
  {
   "cell_type": "code",
   "execution_count": 3,
   "metadata": {
    "collapsed": true
   },
   "outputs": [],
   "source": [
    "def assign_code(my_list):\n",
    "    results_dict = {}\n",
    "    code_810_list = [i for i in my_list if i['DOCTYPE'] == 810]\n",
    "    code_404_list = [i for i in my_list if i['DOCTYPE'] == 404]\n",
    "    code_856_list = [i for i in my_list if i['DOCTYPE'] == 856]\n",
    "\n",
    "    results_dict['code810'] = code_810_list\n",
    "    results_dict['code404'] = code_404_list\n",
    "    results_dict['code856'] = code_856_list\n",
    "    \n",
    "    return results_dict"
   ]
  },
  {
   "cell_type": "code",
   "execution_count": 4,
   "metadata": {},
   "outputs": [
    {
     "data": {
      "text/plain": [
       "[u'accounts_code_810',\n",
       " u'TEST2',\n",
       " u'django_migrations',\n",
       " u'sqlite_sequence',\n",
       " u'auth_group',\n",
       " u'auth_group_permissions',\n",
       " u'auth_user_groups',\n",
       " u'auth_user_user_permissions',\n",
       " u'accounts_userprofile',\n",
       " u'django_admin_log',\n",
       " u'django_content_type',\n",
       " u'auth_permission',\n",
       " u'auth_user',\n",
       " u'django_session']"
      ]
     },
     "execution_count": 4,
     "metadata": {},
     "output_type": "execute_result"
    }
   ],
   "source": [
    "def get_table_names():\n",
    "    '''returns a list of table names'''\n",
    "    with connections['mydb'].cursor() as cursor:\n",
    "        get_tables_query = '''\n",
    "        select name from sqlite_master where type = 'table';\n",
    "        '''\n",
    "        ex = cursor.execute(get_tables_query)\n",
    "        tables = []\n",
    "        for i in ex:\n",
    "            tables.append(i[0])\n",
    "    return tables\n",
    "\n",
    "tables = get_table_names()\n",
    "tables"
   ]
  },
  {
   "cell_type": "code",
   "execution_count": 5,
   "metadata": {
    "collapsed": true
   },
   "outputs": [],
   "source": [
    "# def test_page():\n",
    "#     with connections['mydb'].cursor() as cursor:\n",
    "#         tables = get_table_names()\n",
    "#         all_records = []\n",
    "#         all_records2 = []\n",
    "#         for table in tables:\n",
    "#             cursor.execute('SELECT * FROM %s' %(table))\n",
    "#             row = dictfetchall(cursor)\n",
    "#             records_list = []\n",
    "#             for i in row:\n",
    "#                 i['Table_Name'] = table\n",
    "#                 records_list.append(i)\n",
    "#                 all_records2.append(i)\n",
    "#             #all_records[table] = records_list\n",
    "#             #result = assign_code(all_records)\n",
    "#             all_records.append(records_list)\n",
    "#     return all_records, all_records2 #render(request, 'accounts/test.html', context=result)"
   ]
  },
  {
   "cell_type": "code",
   "execution_count": 18,
   "metadata": {
    "collapsed": true
   },
   "outputs": [],
   "source": [
    "def test_page():\n",
    "    with connections['mydb'].cursor() as cursor:\n",
    "        tables = get_table_names()\n",
    "        all_records = []\n",
    "        for table in tables:\n",
    "            cursor.execute('SELECT * FROM %s' %(table))\n",
    "            table_data = dictfetchall(cursor)\n",
    "            for i in table_data:\n",
    "                i['Table_Name'] = table\n",
    "                i['Record_Set'] = len(table_data)\n",
    "                all_records.append(i)\n",
    "        result = assign_code(all_records)\n",
    "    return result #render(request, 'accounts/test.html', context=result)"
   ]
  },
  {
   "cell_type": "code",
   "execution_count": 19,
   "metadata": {
    "collapsed": true
   },
   "outputs": [],
   "source": [
    "result = test_page()"
   ]
  },
  {
   "cell_type": "code",
   "execution_count": 20,
   "metadata": {
    "collapsed": true
   },
   "outputs": [
    {
     "data": {
      "text/plain": [
       "{'code404': [{'Customer_Number': u'SOMETHING',\n",
       "   'Customer_Purchase_Order_Number': 112233,\n",
       "   'DOCTYPE': 404,\n",
       "   'Invoice_Number': 123456,\n",
       "   'Record_Set': 3,\n",
       "   'Table_Name': u'TEST'},\n",
       "  {'Customer_Number': u'MORNING',\n",
       "   'Customer_Purchase_Order_Number': 32323232,\n",
       "   'DOCTYPE': 404,\n",
       "   'Invoice_Number': 555,\n",
       "   'Record_Set': 4,\n",
       "   'Table_Name': u'TEST2'},\n",
       "  {'Customer_Number': u'RIVERBOAT',\n",
       "   'Customer_Purchase_Order_Number': 6668,\n",
       "   'DOCTYPE': 404,\n",
       "   'Invoice_Number': 789,\n",
       "   'Record_Set': 4,\n",
       "   'Table_Name': u'TEST2'}],\n",
       " 'code810': [{'Customer_Number': u'FAMILY',\n",
       "   'Customer_Purchase_Order_Number': 45732368,\n",
       "   'DOCTYPE': 810,\n",
       "   'Invoice_Number': 18,\n",
       "   'Record_Set': 3,\n",
       "   'Table_Name': u'TEST'},\n",
       "  {'Customer_Number': u'SAMS',\n",
       "   'Customer_Purchase_Order_Number': 606790393,\n",
       "   'DOCTYPE': 810,\n",
       "   'Invoice_Number': 3002022,\n",
       "   'Record_Set': 3,\n",
       "   'Table_Name': u'TEST'},\n",
       "  {'Customer_Number': u'VICTORS',\n",
       "   'Customer_Purchase_Order_Number': 606790393,\n",
       "   'DOCTYPE': 810,\n",
       "   'Invoice_Number': 1000,\n",
       "   'Record_Set': 4,\n",
       "   'Table_Name': u'TEST2'}],\n",
       " 'code856': [{'Customer_Number': u'BRIGHTBLACK',\n",
       "   'Customer_Purchase_Order_Number': 99999,\n",
       "   'DOCTYPE': 856,\n",
       "   'Invoice_Number': 144,\n",
       "   'Record_Set': 4,\n",
       "   'Table_Name': u'TEST2'}]}"
      ]
     },
     "execution_count": 20,
     "metadata": {},
     "output_type": "execute_result"
    }
   ],
   "source": [
    "result"
   ]
  },
  {
   "cell_type": "code",
   "execution_count": 27,
   "metadata": {},
   "outputs": [
    {
     "ename": "TypeError",
     "evalue": "'builtin_function_or_method' object is not iterable",
     "output_type": "error",
     "traceback": [
      "\u001b[0;31m---------------------------------------------------------------------------\u001b[0m",
      "\u001b[0;31mTypeError\u001b[0m                                 Traceback (most recent call last)",
      "\u001b[0;32m<ipython-input-27-9b80f8161a6b>\u001b[0m in \u001b[0;36m<module>\u001b[0;34m()\u001b[0m\n\u001b[0;32m----> 1\u001b[0;31m \u001b[0;32mfor\u001b[0m \u001b[0mtup\u001b[0m \u001b[0;32min\u001b[0m \u001b[0mresult\u001b[0m\u001b[0;34m.\u001b[0m\u001b[0mitems\u001b[0m\u001b[0;34m:\u001b[0m\u001b[0;34m\u001b[0m\u001b[0m\n\u001b[0m\u001b[1;32m      2\u001b[0m     \u001b[0;32mprint\u001b[0m \u001b[0mtup\u001b[0m\u001b[0;34m\u001b[0m\u001b[0m\n",
      "\u001b[0;31mTypeError\u001b[0m: 'builtin_function_or_method' object is not iterable"
     ]
    }
   ],
   "source": [
    "for tup in result.items:\n",
    "    print tup"
   ]
  },
  {
   "cell_type": "code",
   "execution_count": 44,
   "metadata": {},
   "outputs": [
    {
     "ename": "ImportError",
     "evalue": "cannot import name TEST",
     "output_type": "error",
     "traceback": [
      "\u001b[0;31m---------------------------------------------------------------------------\u001b[0m",
      "\u001b[0;31mImportError\u001b[0m                               Traceback (most recent call last)",
      "\u001b[0;32m<ipython-input-44-c0b3dbdd9d4c>\u001b[0m in \u001b[0;36m<module>\u001b[0;34m()\u001b[0m\n\u001b[0;32m----> 1\u001b[0;31m \u001b[0;32mfrom\u001b[0m \u001b[0maccounts\u001b[0m\u001b[0;34m.\u001b[0m\u001b[0mmodels\u001b[0m \u001b[0;32mimport\u001b[0m \u001b[0mTEST\u001b[0m\u001b[0;34m\u001b[0m\u001b[0m\n\u001b[0m",
      "\u001b[0;31mImportError\u001b[0m: cannot import name TEST"
     ]
    }
   ],
   "source": [
    "from accounts.models import TEST"
   ]
  },
  {
   "cell_type": "code",
   "execution_count": 36,
   "metadata": {},
   "outputs": [
    {
     "data": {
      "text/plain": [
       "<QuerySet []>"
      ]
     },
     "execution_count": 36,
     "metadata": {},
     "output_type": "execute_result"
    }
   ],
   "source": [
    "UserProfile.objects.all()"
   ]
  },
  {
   "cell_type": "code",
   "execution_count": 18,
   "metadata": {
    "collapsed": true
   },
   "outputs": [],
   "source": [
    "def listfetchall(cursor):\n",
    "    \"Return all rows from a cursor as a list\"\n",
    "    return [\n",
    "        list(row)\n",
    "        for row in cursor.fetchall()\n",
    "    ]"
   ]
  },
  {
   "cell_type": "code",
   "execution_count": 73,
   "metadata": {},
   "outputs": [],
   "source": [
    "def test_page():\n",
    "    with connections['mydb'].cursor() as cursor:\n",
    "        tables = ['accounts_code_810', 'TEST2']\n",
    "        all_records = []\n",
    "        result = {}\n",
    "        result['ths'] = ['Invoice Number', 'Customer Number', 'Customer Purchase Order Number', 'DOCTYPE']\n",
    "        tables_data = []\n",
    "        names = []\n",
    "        for table in tables:\n",
    "            cursor.execute('SELECT * FROM %s' %(table))\n",
    "            trs = listfetchall(cursor)\n",
    "            table_data = {'name':table,'record_set':len(trs), 'trs':trs}\n",
    "            #names.append(table)\n",
    "            tables_data.append(table_data)\n",
    "        #tables_data['names'] = names\n",
    "        result['tables_data'] = tables_data\n",
    "    return result"
   ]
  },
  {
   "cell_type": "code",
   "execution_count": 74,
   "metadata": {},
   "outputs": [],
   "source": [
    "result = test_page()"
   ]
  },
  {
   "cell_type": "code",
   "execution_count": 72,
   "metadata": {},
   "outputs": [
    {
     "data": {
      "text/plain": [
       "{'tables_data': [{'name': 'accounts_code_810',\n",
       "   'record_set': 3,\n",
       "   'trs': [[18, u'FAMILY', 45732368, 810],\n",
       "    [3002022, u'SAMS', 606790393, 810],\n",
       "    [123456, u'SOMETHING', 112233, 404]]},\n",
       "  {'name': 'TEST2',\n",
       "   'record_set': 4,\n",
       "   'trs': [[144, u'BRIGHTBLACK', 99999, 856],\n",
       "    [1000, u'VICTORS', 606790393, 810],\n",
       "    [555, u'MORNING', 32323232, 404],\n",
       "    [789, u'RIVERBOAT', 6668, 404]]}],\n",
       " 'ths': ['Invoice Number',\n",
       "  'Customer Number',\n",
       "  'Customer Purchase Order Number',\n",
       "  'DOCTYPE']}"
      ]
     },
     "execution_count": 72,
     "metadata": {},
     "output_type": "execute_result"
    }
   ],
   "source": [
    "result"
   ]
  },
  {
   "cell_type": "code",
   "execution_count": 56,
   "metadata": {},
   "outputs": [
    {
     "name": "stdout",
     "output_type": "stream",
     "text": [
      "{'record_set': 3, 'trs': [[18, u'FAMILY', 45732368, 810], [3002022, u'SAMS', 606790393, 810], [123456, u'SOMETHING', 112233, 404]]}\n",
      "{'record_set': 4, 'trs': [[144, u'BRIGHTBLACK', 99999, 856], [1000, u'VICTORS', 606790393, 810], [555, u'MORNING', 32323232, 404], [789, u'RIVERBOAT', 6668, 404]]}\n"
     ]
    }
   ],
   "source": [
    "for table in result['tables_data']:\n",
    "    print result['tables_data'][table]"
   ]
  },
  {
   "cell_type": "code",
   "execution_count": null,
   "metadata": {
    "collapsed": true
   },
   "outputs": [],
   "source": []
  },
  {
   "cell_type": "code",
   "execution_count": null,
   "metadata": {
    "collapsed": true
   },
   "outputs": [],
   "source": []
  }
 ],
 "metadata": {
  "kernelspec": {
   "display_name": "Django Shell-Plus",
   "language": "python",
   "name": "django_extensions"
  },
  "language_info": {
   "codemirror_mode": {
    "name": "ipython",
    "version": 2
   },
   "file_extension": ".py",
   "mimetype": "text/x-python",
   "name": "python",
   "nbconvert_exporter": "python",
   "pygments_lexer": "ipython2",
   "version": "2.7.13"
  }
 },
 "nbformat": 4,
 "nbformat_minor": 2
}
