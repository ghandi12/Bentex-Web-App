{
 "cells": [
  {
   "cell_type": "code",
   "execution_count": 1,
   "metadata": {
    "collapsed": true
   },
   "outputs": [],
   "source": [
    "import pandas as pd\n",
    "import sqlite3\n",
    "from sqlalchemy import create_engine\n",
    "import io"
   ]
  },
  {
   "cell_type": "code",
   "execution_count": 2,
   "metadata": {},
   "outputs": [
    {
     "data": {
      "text/html": [
       "<div>\n",
       "<table border=\"1\" class=\"dataframe\">\n",
       "  <thead>\n",
       "    <tr style=\"text-align: right;\">\n",
       "      <th></th>\n",
       "      <th>Company_Code</th>\n",
       "      <th>Division_Code</th>\n",
       "      <th>Invoice_Number</th>\n",
       "      <th>Customer_Number</th>\n",
       "      <th>Customer_Purchase_Order_Number</th>\n",
       "      <th>DATE_INVOICED</th>\n",
       "      <th>DATE_CREATED</th>\n",
       "      <th>DOCTYPE</th>\n",
       "      <th>SEGMENTSEPERATOR</th>\n",
       "      <th>ELEMENTSEPERATOR</th>\n",
       "      <th>MAPPINGFILE</th>\n",
       "      <th>id</th>\n",
       "      <th>REMARKS</th>\n",
       "    </tr>\n",
       "  </thead>\n",
       "  <tbody>\n",
       "    <tr>\n",
       "      <th>0</th>\n",
       "      <td>5</td>\n",
       "      <td>0.0</td>\n",
       "      <td>18.0</td>\n",
       "      <td>FAMILY</td>\n",
       "      <td>45732368.0</td>\n",
       "      <td>6/9/17</td>\n",
       "      <td>6/9/17</td>\n",
       "      <td>810.0</td>\n",
       "      <td>37C10B5D-5D75-40D1-AEB5-F8118141DA84</td>\n",
       "      <td>E13C2B4F-414F-4604-8922-06D63941A255</td>\n",
       "      <td>810.xmp</td>\n",
       "      <td>2029.0</td>\n",
       "      <td>NaN</td>\n",
       "    </tr>\n",
       "    <tr>\n",
       "      <th>1</th>\n",
       "      <td>3</td>\n",
       "      <td>0.0</td>\n",
       "      <td>3002022.0</td>\n",
       "      <td>SAMS</td>\n",
       "      <td>606790393.0</td>\n",
       "      <td>5/12/17</td>\n",
       "      <td>5/24/17</td>\n",
       "      <td>810.0</td>\n",
       "      <td>37C10B5D-5D75-40D1-AEB5-F8118141DA84</td>\n",
       "      <td>E13C2B4F-414F-4604-8922-06D63941A255</td>\n",
       "      <td>810.xmp</td>\n",
       "      <td>1083.0</td>\n",
       "      <td>NaN</td>\n",
       "    </tr>\n",
       "  </tbody>\n",
       "</table>\n",
       "</div>"
      ],
      "text/plain": [
       "  Company_Code  Division_Code  Invoice_Number Customer_Number  \\\n",
       "0            5            0.0            18.0          FAMILY   \n",
       "1            3            0.0       3002022.0            SAMS   \n",
       "\n",
       "   Customer_Purchase_Order_Number DATE_INVOICED DATE_CREATED  DOCTYPE  \\\n",
       "0                      45732368.0        6/9/17       6/9/17    810.0   \n",
       "1                     606790393.0       5/12/17      5/24/17    810.0   \n",
       "\n",
       "                       SEGMENTSEPERATOR                      ELEMENTSEPERATOR  \\\n",
       "0  37C10B5D-5D75-40D1-AEB5-F8118141DA84  E13C2B4F-414F-4604-8922-06D63941A255   \n",
       "1  37C10B5D-5D75-40D1-AEB5-F8118141DA84  E13C2B4F-414F-4604-8922-06D63941A255   \n",
       "\n",
       "  MAPPINGFILE      id  REMARKS  \n",
       "0     810.xmp  2029.0      NaN  \n",
       "1     810.xmp  1083.0      NaN  "
      ]
     },
     "execution_count": 2,
     "metadata": {},
     "output_type": "execute_result"
    }
   ],
   "source": [
    "df = pd.read_csv('MissingFilesTest.csv', delimiter='\\t', encoding='utf_16',\n",
    "                 skiprows=[0,2])\n",
    "df.dropna(thresh=2)"
   ]
  },
  {
   "cell_type": "code",
   "execution_count": 8,
   "metadata": {},
   "outputs": [],
   "source": [
    "df.to_csv('MissingFilesTestClean')"
   ]
  },
  {
   "cell_type": "code",
   "execution_count": 3,
   "metadata": {
    "collapsed": true
   },
   "outputs": [],
   "source": [
    "# import pymysql\n",
    "# from sqlalchemy import create_engine\n",
    "# cnx = create_engine('mysql+pymysql://[user]:[pass]@[host]:[port]/[schema]', echo=False)\n",
    "\n",
    "# data = pd.read_sql('SELECT * FROM sample_table', cnx)\n",
    "# data.to_sql(name='sample_table2', con=cnx, if_exists = 'append', index=False)"
   ]
  },
  {
   "cell_type": "code",
   "execution_count": 4,
   "metadata": {
    "collapsed": true
   },
   "outputs": [],
   "source": [
    "cnx = create_engine('sqlite://')"
   ]
  },
  {
   "cell_type": "code",
   "execution_count": 5,
   "metadata": {},
   "outputs": [
    {
     "ename": "NameError",
     "evalue": "name 'table_name' is not defined",
     "output_type": "error",
     "traceback": [
      "\u001b[0;31m---------------------------------------------------------------------------\u001b[0m",
      "\u001b[0;31mNameError\u001b[0m                                 Traceback (most recent call last)",
      "\u001b[0;32m<ipython-input-5-5946440882a6>\u001b[0m in \u001b[0;36m<module>\u001b[0;34m()\u001b[0m\n\u001b[0;32m----> 1\u001b[0;31m \u001b[0mdf\u001b[0m\u001b[0;34m.\u001b[0m\u001b[0mto_sql\u001b[0m\u001b[0;34m(\u001b[0m\u001b[0mtable_name\u001b[0m\u001b[0;34m,\u001b[0m \u001b[0mconn\u001b[0m\u001b[0;34m,\u001b[0m \u001b[0mif_exists\u001b[0m\u001b[0;34m=\u001b[0m\u001b[0;34m'append'\u001b[0m\u001b[0;34m,\u001b[0m \u001b[0mindex\u001b[0m\u001b[0;34m=\u001b[0m\u001b[0mFalse\u001b[0m\u001b[0;34m)\u001b[0m\u001b[0;34m\u001b[0m\u001b[0m\n\u001b[0m",
      "\u001b[0;31mNameError\u001b[0m: name 'table_name' is not defined"
     ]
    }
   ],
   "source": [
    "df.to_sql(table_name, conn, if_exists='append', index=False)"
   ]
  },
  {
   "cell_type": "code",
   "execution_count": null,
   "metadata": {
    "collapsed": true
   },
   "outputs": [],
   "source": []
  },
  {
   "cell_type": "code",
   "execution_count": null,
   "metadata": {
    "collapsed": true
   },
   "outputs": [],
   "source": []
  },
  {
   "cell_type": "code",
   "execution_count": null,
   "metadata": {
    "collapsed": true
   },
   "outputs": [],
   "source": [
    "sqlite_db = 'dsi-db.sqlite'\n",
    "conn = sqlite3.connect(sqlite_db)\n",
    "c = conn.cursor()"
   ]
  },
  {
   "cell_type": "code",
   "execution_count": null,
   "metadata": {
    "collapsed": true
   },
   "outputs": [],
   "source": []
  }
 ],
 "metadata": {
  "kernelspec": {
   "display_name": "Python 2",
   "language": "python",
   "name": "python2"
  },
  "language_info": {
   "codemirror_mode": {
    "name": "ipython",
    "version": 2
   },
   "file_extension": ".py",
   "mimetype": "text/x-python",
   "name": "python",
   "nbconvert_exporter": "python",
   "pygments_lexer": "ipython2",
   "version": "2.7.13"
  }
 },
 "nbformat": 4,
 "nbformat_minor": 2
}
